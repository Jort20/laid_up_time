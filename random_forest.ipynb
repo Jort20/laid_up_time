{
 "cells": [
  {
   "cell_type": "code",
   "execution_count": 1,
   "metadata": {},
   "outputs": [],
   "source": [
    "import pandas as pd\n",
    "\n",
    "df = pd.read_csv(\"/Users/jortgommers/Desktop/ai/df_cleaned.csv\")"
   ]
  },
  {
   "cell_type": "code",
   "execution_count": 2,
   "metadata": {},
   "outputs": [
    {
     "name": "stdout",
     "output_type": "stream",
     "text": [
      "COMPANY                              0\n",
      "OFFICE                               0\n",
      "OFFICE_MAIN_BRAND                    0\n",
      "MANUFACTURER_SHORT                   0\n",
      "VEHICLE_GROUP                        0\n",
      "VEHICLE_TYPE                         0\n",
      "MILEAGE                              0\n",
      "MILAGE_SALES                         0\n",
      "COLOR                                0\n",
      "MAX_TRAILOR_LOAD                     0\n",
      "YEAR_CONSTRUCTION                    0\n",
      "HORSEPOWER                           0\n",
      "NUMBER_OWNERS                        0\n",
      "FINANCING_TYPE                       0\n",
      "FUEL_TYPE_NAME                       0\n",
      "LAID_UP_TIME                         0\n",
      "SCALED_CURRENT_VALUE                 0\n",
      "SCALED_GUIDE_PRICE                   0\n",
      "SCALED_TOTAL_SALE_PRICE              0\n",
      "ACCIDENT_VEHICLE                     0\n",
      "COMMISSION_TYPE                      0\n",
      "VEHICLE_MODEL_ID_NAME                0\n",
      "days_between_leasing_and_purchase    0\n",
      "PURCHASE_YEAR                        0\n",
      "PURCHASE_MONTH                       0\n",
      "PURCHASE_WEEKDAY                     0\n",
      "PC-1                                 0\n",
      "PC-2                                 0\n",
      "PC-3                                 0\n",
      "PC-4                                 0\n",
      "dtype: int64\n"
     ]
    }
   ],
   "source": [
    "# Controleer op missende waarden in de geselecteerde kolommen\n",
    "missing_values = df.isnull().sum()\n",
    "\n",
    "# Toon alle rijen\n",
    "pd.set_option(\"display.max_rows\", None)\n",
    "\n",
    "print(missing_values)"
   ]
  },
  {
   "cell_type": "code",
   "execution_count": null,
   "metadata": {},
   "outputs": [
    {
     "name": "stderr",
     "output_type": "stream",
     "text": [
      "/Users/jortgommers/opt/anaconda3/lib/python3.9/site-packages/scipy/__init__.py:146: UserWarning: A NumPy version >=1.16.5 and <1.23.0 is required for this version of SciPy (detected version 1.24.3\n",
      "  warnings.warn(f\"A NumPy version >={np_minversion} and <{np_maxversion}\"\n"
     ]
    }
   ],
   "source": [
    "import pandas as pd\n",
    "import numpy as np\n",
    "from sklearn.ensemble import RandomForestRegressor\n",
    "from sklearn.model_selection import cross_validate\n",
    "from sklearn.metrics import mean_squared_error, r2_score\n",
    "\n",
    "# Splits de dataset in kenmerken (X) en target (y)\n",
    "X = df.drop('LAID_UP_TIME', axis=1)\n",
    "y = df['LAID_UP_TIME']\n",
    "\n",
    "# Initialiseer het Random Forest-model\n",
    "rf = RandomForestRegressor(n_estimators=100, random_state=42)\n",
    "\n",
    "# Baseline-score met alle features\n",
    "baseline_scores = cross_validate(rf, X, y, cv=2, scoring=['r2', 'neg_root_mean_squared_error'])\n",
    "baseline_r2 = baseline_scores['test_r2'].mean()\n",
    "baseline_rmse = -baseline_scores['test_neg_root_mean_squared_error'].mean()\n",
    "\n",
    "# Resultaten opslaan\n",
    "results = []\n",
    "\n",
    "# Itereer door de features en train het model zonder die feature\n",
    "for feature in X.columns:\n",
    "    X_reduced = X.drop(columns=[feature])  # Verwijder 1 feature\n",
    "\n",
    "    scores = cross_validate(rf, X_reduced, y, cv=2, scoring=['r2', 'neg_root_mean_squared_error'])\n",
    "    r2 = scores['test_r2'].mean()\n",
    "    rmse = -scores['test_neg_root_mean_squared_error'].mean()\n",
    "\n",
    "    # Opslaan van de resultaten\n",
    "    results.append({\n",
    "        'Feature_removed': feature,\n",
    "        'R2': r2,\n",
    "        'RMSE': rmse,\n",
    "        'R2_change': r2 - baseline_r2,\n",
    "        'RMSE_change': rmse - baseline_rmse\n",
    "    })\n",
    "\n",
    "# Zet resultaten om naar een DataFrame\n",
    "results_df = pd.DataFrame(results)\n",
    "\n",
    "# Sorteer de resultaten op R2-verandering (hoeveel de score daalt/stijgt)\n",
    "results_df = results_df.sort_values(by='R2_change')\n",
    "\n",
    "# Print de resultaten\n",
    "print(results_df)\n"
   ]
  }
 ],
 "metadata": {
  "kernelspec": {
   "display_name": "base",
   "language": "python",
   "name": "python3"
  },
  "language_info": {
   "codemirror_mode": {
    "name": "ipython",
    "version": 3
   },
   "file_extension": ".py",
   "mimetype": "text/x-python",
   "name": "python",
   "nbconvert_exporter": "python",
   "pygments_lexer": "ipython3",
   "version": "3.9.12"
  }
 },
 "nbformat": 4,
 "nbformat_minor": 2
}
